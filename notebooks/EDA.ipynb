{
 "cells": [
  {
   "cell_type": "markdown",
   "id": "4ba09237",
   "metadata": {},
   "source": [
    "##### EDA Robusta para Melhoria do Modelo de Análise\n",
    "##### \n",
    "##### **Objetivo:** Esta análise vai além da exploração básica para encontrar oportunidades de aprimorar nosso sistema. O foco é:\n",
    "##### 1.  **Qualidade do Texto:** Garantir que o texto enviado ao LLM seja o mais limpo e relevante possível.\n",
    "##### 2.  **Engenharia de Features:** Criar novas variáveis que possam revelar padrões de comportamento do usuário e tendências temporais.\n",
    "##### 3.  **Análise de Sentimento:** Validar a consistência entre a nota (`score`) e o sentimento do texto.\n",
    "##### 4.  **Insights Acionáveis:** Derivar conclusões que se traduzam em melhorias na pipeline de dados e na aplicação final.\n"
   ]
  },
  {
   "cell_type": "code",
   "execution_count": 1,
   "id": "94a3494b",
   "metadata": {},
   "outputs": [
    {
     "name": "stderr",
     "output_type": "stream",
     "text": [
      "[nltk_data] Downloading package punkt to\n",
      "[nltk_data]     C:\\Users\\Danilo\\AppData\\Roaming\\nltk_data...\n",
      "[nltk_data]   Package punkt is already up-to-date!\n",
      "[nltk_data] Downloading package stopwords to\n",
      "[nltk_data]     C:\\Users\\Danilo\\AppData\\Roaming\\nltk_data...\n",
      "[nltk_data]   Package stopwords is already up-to-date!\n"
     ]
    }
   ],
   "source": [
    "import pandas as pd\n",
    "import numpy as np\n",
    "import matplotlib.pyplot as plt\n",
    "import seaborn as sns\n",
    "import re\n",
    "import html\n",
    "import ast\n",
    "from datetime import datetime\n",
    "from collections import Counter\n",
    "from nltk.corpus import stopwords\n",
    "from nltk.tokenize import word_tokenize\n",
    "\n",
    "import nltk\n",
    "from nltk.tokenize import word_tokenize\n",
    "nltk.download('punkt')\n",
    "nltk.download('stopwords')\n",
    "\n",
    "sns.set_style('whitegrid')\n",
    "plt.rcParams['figure.figsize'] = (14, 7)"
   ]
  },
  {
   "cell_type": "code",
   "execution_count": 2,
   "id": "243ed7a0",
   "metadata": {},
   "outputs": [],
   "source": [
    "ratings_df = pd.read_csv('../data/books_rating.csv', nrows=500000)\n",
    "metadata_df = pd.read_csv('../data/books_data.csv')"
   ]
  },
  {
   "cell_type": "code",
   "execution_count": 3,
   "id": "529f92ff",
   "metadata": {},
   "outputs": [
    {
     "data": {
      "text/html": [
       "<div>\n",
       "<style scoped>\n",
       "    .dataframe tbody tr th:only-of-type {\n",
       "        vertical-align: middle;\n",
       "    }\n",
       "\n",
       "    .dataframe tbody tr th {\n",
       "        vertical-align: top;\n",
       "    }\n",
       "\n",
       "    .dataframe thead th {\n",
       "        text-align: right;\n",
       "    }\n",
       "</style>\n",
       "<table border=\"1\" class=\"dataframe\">\n",
       "  <thead>\n",
       "    <tr style=\"text-align: right;\">\n",
       "      <th></th>\n",
       "      <th>Id</th>\n",
       "      <th>Title</th>\n",
       "      <th>Price</th>\n",
       "      <th>User_id</th>\n",
       "      <th>profileName</th>\n",
       "      <th>score</th>\n",
       "      <th>time</th>\n",
       "      <th>summary</th>\n",
       "      <th>text</th>\n",
       "    </tr>\n",
       "  </thead>\n",
       "  <tbody>\n",
       "    <tr>\n",
       "      <th>0</th>\n",
       "      <td>1882931173</td>\n",
       "      <td>Its Only Art If Its Well Hung!</td>\n",
       "      <td>NaN</td>\n",
       "      <td>AVCGYZL8FQQTD</td>\n",
       "      <td>Jim of Oz \"jim-of-oz\"</td>\n",
       "      <td>4.0</td>\n",
       "      <td>940636800</td>\n",
       "      <td>Nice collection of Julie Strain images</td>\n",
       "      <td>This is only for Julie Strain fans. It's a col...</td>\n",
       "    </tr>\n",
       "    <tr>\n",
       "      <th>1</th>\n",
       "      <td>0826414346</td>\n",
       "      <td>Dr. Seuss: American Icon</td>\n",
       "      <td>NaN</td>\n",
       "      <td>A30TK6U7DNS82R</td>\n",
       "      <td>Kevin Killian</td>\n",
       "      <td>5.0</td>\n",
       "      <td>1095724800</td>\n",
       "      <td>Really Enjoyed It</td>\n",
       "      <td>I don't care much for Dr. Seuss but after read...</td>\n",
       "    </tr>\n",
       "    <tr>\n",
       "      <th>2</th>\n",
       "      <td>0826414346</td>\n",
       "      <td>Dr. Seuss: American Icon</td>\n",
       "      <td>NaN</td>\n",
       "      <td>A3UH4UZ4RSVO82</td>\n",
       "      <td>John Granger</td>\n",
       "      <td>5.0</td>\n",
       "      <td>1078790400</td>\n",
       "      <td>Essential for every personal and Public Library</td>\n",
       "      <td>If people become the books they read and if \"t...</td>\n",
       "    </tr>\n",
       "  </tbody>\n",
       "</table>\n",
       "</div>"
      ],
      "text/plain": [
       "           Id                           Title  Price         User_id  \\\n",
       "0  1882931173  Its Only Art If Its Well Hung!    NaN   AVCGYZL8FQQTD   \n",
       "1  0826414346        Dr. Seuss: American Icon    NaN  A30TK6U7DNS82R   \n",
       "2  0826414346        Dr. Seuss: American Icon    NaN  A3UH4UZ4RSVO82   \n",
       "\n",
       "             profileName  score        time  \\\n",
       "0  Jim of Oz \"jim-of-oz\"    4.0   940636800   \n",
       "1          Kevin Killian    5.0  1095724800   \n",
       "2           John Granger    5.0  1078790400   \n",
       "\n",
       "                                           summary  \\\n",
       "0           Nice collection of Julie Strain images   \n",
       "1                                Really Enjoyed It   \n",
       "2  Essential for every personal and Public Library   \n",
       "\n",
       "                                                text  \n",
       "0  This is only for Julie Strain fans. It's a col...  \n",
       "1  I don't care much for Dr. Seuss but after read...  \n",
       "2  If people become the books they read and if \"t...  "
      ]
     },
     "execution_count": 3,
     "metadata": {},
     "output_type": "execute_result"
    }
   ],
   "source": [
    "ratings_df.head(3)"
   ]
  },
  {
   "cell_type": "code",
   "execution_count": 4,
   "id": "3b169d9c",
   "metadata": {},
   "outputs": [
    {
     "data": {
      "text/html": [
       "<div>\n",
       "<style scoped>\n",
       "    .dataframe tbody tr th:only-of-type {\n",
       "        vertical-align: middle;\n",
       "    }\n",
       "\n",
       "    .dataframe tbody tr th {\n",
       "        vertical-align: top;\n",
       "    }\n",
       "\n",
       "    .dataframe thead th {\n",
       "        text-align: right;\n",
       "    }\n",
       "</style>\n",
       "<table border=\"1\" class=\"dataframe\">\n",
       "  <thead>\n",
       "    <tr style=\"text-align: right;\">\n",
       "      <th></th>\n",
       "      <th>Title</th>\n",
       "      <th>description</th>\n",
       "      <th>authors</th>\n",
       "      <th>image</th>\n",
       "      <th>previewLink</th>\n",
       "      <th>publisher</th>\n",
       "      <th>publishedDate</th>\n",
       "      <th>infoLink</th>\n",
       "      <th>categories</th>\n",
       "      <th>ratingsCount</th>\n",
       "    </tr>\n",
       "  </thead>\n",
       "  <tbody>\n",
       "    <tr>\n",
       "      <th>0</th>\n",
       "      <td>Its Only Art If Its Well Hung!</td>\n",
       "      <td>NaN</td>\n",
       "      <td>['Julie Strain']</td>\n",
       "      <td>http://books.google.com/books/content?id=DykPA...</td>\n",
       "      <td>http://books.google.nl/books?id=DykPAAAACAAJ&amp;d...</td>\n",
       "      <td>NaN</td>\n",
       "      <td>1996</td>\n",
       "      <td>http://books.google.nl/books?id=DykPAAAACAAJ&amp;d...</td>\n",
       "      <td>['Comics &amp; Graphic Novels']</td>\n",
       "      <td>NaN</td>\n",
       "    </tr>\n",
       "    <tr>\n",
       "      <th>1</th>\n",
       "      <td>Dr. Seuss: American Icon</td>\n",
       "      <td>Philip Nel takes a fascinating look into the k...</td>\n",
       "      <td>['Philip Nel']</td>\n",
       "      <td>http://books.google.com/books/content?id=IjvHQ...</td>\n",
       "      <td>http://books.google.nl/books?id=IjvHQsCn_pgC&amp;p...</td>\n",
       "      <td>A&amp;C Black</td>\n",
       "      <td>2005-01-01</td>\n",
       "      <td>http://books.google.nl/books?id=IjvHQsCn_pgC&amp;d...</td>\n",
       "      <td>['Biography &amp; Autobiography']</td>\n",
       "      <td>NaN</td>\n",
       "    </tr>\n",
       "    <tr>\n",
       "      <th>2</th>\n",
       "      <td>Wonderful Worship in Smaller Churches</td>\n",
       "      <td>This resource includes twelve principles in un...</td>\n",
       "      <td>['David R. Ray']</td>\n",
       "      <td>http://books.google.com/books/content?id=2tsDA...</td>\n",
       "      <td>http://books.google.nl/books?id=2tsDAAAACAAJ&amp;d...</td>\n",
       "      <td>NaN</td>\n",
       "      <td>2000</td>\n",
       "      <td>http://books.google.nl/books?id=2tsDAAAACAAJ&amp;d...</td>\n",
       "      <td>['Religion']</td>\n",
       "      <td>NaN</td>\n",
       "    </tr>\n",
       "  </tbody>\n",
       "</table>\n",
       "</div>"
      ],
      "text/plain": [
       "                                   Title  \\\n",
       "0         Its Only Art If Its Well Hung!   \n",
       "1               Dr. Seuss: American Icon   \n",
       "2  Wonderful Worship in Smaller Churches   \n",
       "\n",
       "                                         description           authors  \\\n",
       "0                                                NaN  ['Julie Strain']   \n",
       "1  Philip Nel takes a fascinating look into the k...    ['Philip Nel']   \n",
       "2  This resource includes twelve principles in un...  ['David R. Ray']   \n",
       "\n",
       "                                               image  \\\n",
       "0  http://books.google.com/books/content?id=DykPA...   \n",
       "1  http://books.google.com/books/content?id=IjvHQ...   \n",
       "2  http://books.google.com/books/content?id=2tsDA...   \n",
       "\n",
       "                                         previewLink  publisher publishedDate  \\\n",
       "0  http://books.google.nl/books?id=DykPAAAACAAJ&d...        NaN          1996   \n",
       "1  http://books.google.nl/books?id=IjvHQsCn_pgC&p...  A&C Black    2005-01-01   \n",
       "2  http://books.google.nl/books?id=2tsDAAAACAAJ&d...        NaN          2000   \n",
       "\n",
       "                                            infoLink  \\\n",
       "0  http://books.google.nl/books?id=DykPAAAACAAJ&d...   \n",
       "1  http://books.google.nl/books?id=IjvHQsCn_pgC&d...   \n",
       "2  http://books.google.nl/books?id=2tsDAAAACAAJ&d...   \n",
       "\n",
       "                      categories  ratingsCount  \n",
       "0    ['Comics & Graphic Novels']           NaN  \n",
       "1  ['Biography & Autobiography']           NaN  \n",
       "2                   ['Religion']           NaN  "
      ]
     },
     "execution_count": 4,
     "metadata": {},
     "output_type": "execute_result"
    }
   ],
   "source": [
    "metadata_df.head(3)"
   ]
  },
  {
   "cell_type": "code",
   "execution_count": 5,
   "id": "5890a1ab",
   "metadata": {},
   "outputs": [
    {
     "name": "stdout",
     "output_type": "stream",
     "text": [
      "<class 'pandas.core.frame.DataFrame'>\n",
      "RangeIndex: 500000 entries, 0 to 499999\n",
      "Data columns (total 9 columns):\n",
      " #   Column       Non-Null Count   Dtype  \n",
      "---  ------       --------------   -----  \n",
      " 0   Id           500000 non-null  object \n",
      " 1   Title        499993 non-null  object \n",
      " 2   Price        80099 non-null   float64\n",
      " 3   User_id      403654 non-null  object \n",
      " 4   profileName  403642 non-null  object \n",
      " 5   score        500000 non-null  float64\n",
      " 6   time         500000 non-null  int64  \n",
      " 7   summary      499931 non-null  object \n",
      " 8   text         499999 non-null  object \n",
      "dtypes: float64(2), int64(1), object(6)\n",
      "memory usage: 34.3+ MB\n",
      "<class 'pandas.core.frame.DataFrame'>\n",
      "RangeIndex: 212404 entries, 0 to 212403\n",
      "Data columns (total 10 columns):\n",
      " #   Column         Non-Null Count   Dtype  \n",
      "---  ------         --------------   -----  \n",
      " 0   Title          212403 non-null  object \n",
      " 1   description    143962 non-null  object \n",
      " 2   authors        180991 non-null  object \n",
      " 3   image          160329 non-null  object \n",
      " 4   previewLink    188568 non-null  object \n",
      " 5   publisher      136518 non-null  object \n",
      " 6   publishedDate  187099 non-null  object \n",
      " 7   infoLink       188568 non-null  object \n",
      " 8   categories     171205 non-null  object \n",
      " 9   ratingsCount   49752 non-null   float64\n",
      "dtypes: float64(1), object(9)\n",
      "memory usage: 16.2+ MB\n"
     ]
    }
   ],
   "source": [
    "ratings_df.info()\n",
    "metadata_df.info()"
   ]
  },
  {
   "cell_type": "code",
   "execution_count": 6,
   "id": "1a8b8209",
   "metadata": {},
   "outputs": [
    {
     "data": {
      "text/plain": [
       "np.int64(3793)"
      ]
     },
     "execution_count": 6,
     "metadata": {},
     "output_type": "execute_result"
    }
   ],
   "source": [
    "ratings_df.duplicated().sum()"
   ]
  },
  {
   "cell_type": "code",
   "execution_count": 7,
   "id": "80fe711f",
   "metadata": {},
   "outputs": [
    {
     "data": {
      "text/plain": [
       "np.int64(0)"
      ]
     },
     "execution_count": 7,
     "metadata": {},
     "output_type": "execute_result"
    }
   ],
   "source": [
    "metadata_df.duplicated().sum()"
   ]
  },
  {
   "cell_type": "code",
   "execution_count": 8,
   "id": "b88f3756",
   "metadata": {},
   "outputs": [
    {
     "data": {
      "text/html": [
       "<div>\n",
       "<style scoped>\n",
       "    .dataframe tbody tr th:only-of-type {\n",
       "        vertical-align: middle;\n",
       "    }\n",
       "\n",
       "    .dataframe tbody tr th {\n",
       "        vertical-align: top;\n",
       "    }\n",
       "\n",
       "    .dataframe thead th {\n",
       "        text-align: right;\n",
       "    }\n",
       "</style>\n",
       "<table border=\"1\" class=\"dataframe\">\n",
       "  <thead>\n",
       "    <tr style=\"text-align: right;\">\n",
       "      <th></th>\n",
       "      <th>Id</th>\n",
       "      <th>Title</th>\n",
       "      <th>Price</th>\n",
       "      <th>User_id</th>\n",
       "      <th>profileName</th>\n",
       "      <th>score</th>\n",
       "      <th>time</th>\n",
       "      <th>summary</th>\n",
       "      <th>text</th>\n",
       "    </tr>\n",
       "  </thead>\n",
       "  <tbody>\n",
       "    <tr>\n",
       "      <th>410142</th>\n",
       "      <td>B000NDSX6C</td>\n",
       "      <td>The Hobbit</td>\n",
       "      <td>NaN</td>\n",
       "      <td>A02660181QI9HHAVFK06O</td>\n",
       "      <td>Sandie Post</td>\n",
       "      <td>5.0</td>\n",
       "      <td>1360281600</td>\n",
       "      <td>Excellent read!</td>\n",
       "      <td>I thoroughly enjoyed reading The Hobbit. Mr. B...</td>\n",
       "    </tr>\n",
       "    <tr>\n",
       "      <th>412741</th>\n",
       "      <td>B000NDSX6C</td>\n",
       "      <td>The Hobbit</td>\n",
       "      <td>NaN</td>\n",
       "      <td>A02660181QI9HHAVFK06O</td>\n",
       "      <td>Sandie Post</td>\n",
       "      <td>5.0</td>\n",
       "      <td>1360281600</td>\n",
       "      <td>Excellent read!</td>\n",
       "      <td>I thoroughly enjoyed reading The Hobbit. Mr. B...</td>\n",
       "    </tr>\n",
       "    <tr>\n",
       "      <th>410273</th>\n",
       "      <td>B000NDSX6C</td>\n",
       "      <td>The Hobbit</td>\n",
       "      <td>NaN</td>\n",
       "      <td>A03816223LL3Q1P48HRU</td>\n",
       "      <td>kalimero</td>\n",
       "      <td>5.0</td>\n",
       "      <td>1353024000</td>\n",
       "      <td>Wonderful book, beautiful cover</td>\n",
       "      <td>Terrific book and a beautiful cloth cover. The...</td>\n",
       "    </tr>\n",
       "    <tr>\n",
       "      <th>413229</th>\n",
       "      <td>B000NDSX6C</td>\n",
       "      <td>The Hobbit</td>\n",
       "      <td>NaN</td>\n",
       "      <td>A03816223LL3Q1P48HRU</td>\n",
       "      <td>kalimero</td>\n",
       "      <td>5.0</td>\n",
       "      <td>1353024000</td>\n",
       "      <td>Wonderful book, beautiful cover</td>\n",
       "      <td>Terrific book and a beautiful cloth cover. The...</td>\n",
       "    </tr>\n",
       "    <tr>\n",
       "      <th>409473</th>\n",
       "      <td>B000NDSX6C</td>\n",
       "      <td>The Hobbit</td>\n",
       "      <td>NaN</td>\n",
       "      <td>A103B6MQ5IF2BK</td>\n",
       "      <td>echomancer</td>\n",
       "      <td>5.0</td>\n",
       "      <td>1358899200</td>\n",
       "      <td>Great book solid bindings</td>\n",
       "      <td>Got as a gift for my niece and she loves it. W...</td>\n",
       "    </tr>\n",
       "    <tr>\n",
       "      <th>410122</th>\n",
       "      <td>B000NDSX6C</td>\n",
       "      <td>The Hobbit</td>\n",
       "      <td>NaN</td>\n",
       "      <td>A103B6MQ5IF2BK</td>\n",
       "      <td>echomancer</td>\n",
       "      <td>5.0</td>\n",
       "      <td>1358899200</td>\n",
       "      <td>Great book solid bindings</td>\n",
       "      <td>Got as a gift for my niece and she loves it. W...</td>\n",
       "    </tr>\n",
       "    <tr>\n",
       "      <th>377139</th>\n",
       "      <td>0936756748</td>\n",
       "      <td>Still Black, Still Strong</td>\n",
       "      <td>11.21</td>\n",
       "      <td>A103W7ZPKGOCC9</td>\n",
       "      <td>rodog63jr</td>\n",
       "      <td>5.0</td>\n",
       "      <td>1019433600</td>\n",
       "      <td>I own the book</td>\n",
       "      <td>This book gives a insight of the most famous v...</td>\n",
       "    </tr>\n",
       "    <tr>\n",
       "      <th>377141</th>\n",
       "      <td>0936756748</td>\n",
       "      <td>Still Black, Still Strong</td>\n",
       "      <td>11.21</td>\n",
       "      <td>A103W7ZPKGOCC9</td>\n",
       "      <td>rodog63jr</td>\n",
       "      <td>5.0</td>\n",
       "      <td>1019433600</td>\n",
       "      <td>I own the book</td>\n",
       "      <td>This book gives a insight of the most famous v...</td>\n",
       "    </tr>\n",
       "    <tr>\n",
       "      <th>382707</th>\n",
       "      <td>156720354X</td>\n",
       "      <td>Concepts and Procedures in Whistleblower Law</td>\n",
       "      <td>163.15</td>\n",
       "      <td>A1091LVP7XAC0G</td>\n",
       "      <td>Sherry Mathis /Licenced Nurse/</td>\n",
       "      <td>5.0</td>\n",
       "      <td>975801600</td>\n",
       "      <td>S.O.S. A first hand review from a survivor :</td>\n",
       "      <td>This book is indispensible to an employee who ...</td>\n",
       "    </tr>\n",
       "    <tr>\n",
       "      <th>382710</th>\n",
       "      <td>156720354X</td>\n",
       "      <td>Concepts and Procedures in Whistleblower Law</td>\n",
       "      <td>163.15</td>\n",
       "      <td>A1091LVP7XAC0G</td>\n",
       "      <td>Sherry Mathis /Licenced Nurse/</td>\n",
       "      <td>5.0</td>\n",
       "      <td>975801600</td>\n",
       "      <td>S.O.S. A first hand review from a survivor :</td>\n",
       "      <td>This book is indispensible to an employee who ...</td>\n",
       "    </tr>\n",
       "  </tbody>\n",
       "</table>\n",
       "</div>"
      ],
      "text/plain": [
       "                Id                                         Title   Price  \\\n",
       "410142  B000NDSX6C                                    The Hobbit     NaN   \n",
       "412741  B000NDSX6C                                    The Hobbit     NaN   \n",
       "410273  B000NDSX6C                                    The Hobbit     NaN   \n",
       "413229  B000NDSX6C                                    The Hobbit     NaN   \n",
       "409473  B000NDSX6C                                    The Hobbit     NaN   \n",
       "410122  B000NDSX6C                                    The Hobbit     NaN   \n",
       "377139  0936756748                     Still Black, Still Strong   11.21   \n",
       "377141  0936756748                     Still Black, Still Strong   11.21   \n",
       "382707  156720354X  Concepts and Procedures in Whistleblower Law  163.15   \n",
       "382710  156720354X  Concepts and Procedures in Whistleblower Law  163.15   \n",
       "\n",
       "                      User_id                     profileName  score  \\\n",
       "410142  A02660181QI9HHAVFK06O                     Sandie Post    5.0   \n",
       "412741  A02660181QI9HHAVFK06O                     Sandie Post    5.0   \n",
       "410273   A03816223LL3Q1P48HRU                        kalimero    5.0   \n",
       "413229   A03816223LL3Q1P48HRU                        kalimero    5.0   \n",
       "409473         A103B6MQ5IF2BK                      echomancer    5.0   \n",
       "410122         A103B6MQ5IF2BK                      echomancer    5.0   \n",
       "377139         A103W7ZPKGOCC9                       rodog63jr    5.0   \n",
       "377141         A103W7ZPKGOCC9                       rodog63jr    5.0   \n",
       "382707         A1091LVP7XAC0G  Sherry Mathis /Licenced Nurse/    5.0   \n",
       "382710         A1091LVP7XAC0G  Sherry Mathis /Licenced Nurse/    5.0   \n",
       "\n",
       "              time                                       summary  \\\n",
       "410142  1360281600                               Excellent read!   \n",
       "412741  1360281600                               Excellent read!   \n",
       "410273  1353024000               Wonderful book, beautiful cover   \n",
       "413229  1353024000               Wonderful book, beautiful cover   \n",
       "409473  1358899200                     Great book solid bindings   \n",
       "410122  1358899200                     Great book solid bindings   \n",
       "377139  1019433600                                I own the book   \n",
       "377141  1019433600                                I own the book   \n",
       "382707   975801600  S.O.S. A first hand review from a survivor :   \n",
       "382710   975801600  S.O.S. A first hand review from a survivor :   \n",
       "\n",
       "                                                     text  \n",
       "410142  I thoroughly enjoyed reading The Hobbit. Mr. B...  \n",
       "412741  I thoroughly enjoyed reading The Hobbit. Mr. B...  \n",
       "410273  Terrific book and a beautiful cloth cover. The...  \n",
       "413229  Terrific book and a beautiful cloth cover. The...  \n",
       "409473  Got as a gift for my niece and she loves it. W...  \n",
       "410122  Got as a gift for my niece and she loves it. W...  \n",
       "377139  This book gives a insight of the most famous v...  \n",
       "377141  This book gives a insight of the most famous v...  \n",
       "382707  This book is indispensible to an employee who ...  \n",
       "382710  This book is indispensible to an employee who ...  "
      ]
     },
     "metadata": {},
     "output_type": "display_data"
    }
   ],
   "source": [
    "duplicated_samples = ratings_df[ratings_df.duplicated(keep=False)].sort_values(by=['User_id', 'Title'])\n",
    "display(duplicated_samples.head(10))"
   ]
  },
  {
   "cell_type": "code",
   "execution_count": 9,
   "id": "30882428",
   "metadata": {},
   "outputs": [
    {
     "name": "stdout",
     "output_type": "stream",
     "text": [
      "<class 'pandas.core.frame.DataFrame'>\n",
      "Index: 478827 entries, 0 to 499999\n",
      "Data columns (total 9 columns):\n",
      " #   Column       Non-Null Count   Dtype  \n",
      "---  ------       --------------   -----  \n",
      " 0   Id           478827 non-null  object \n",
      " 1   Title        478820 non-null  object \n",
      " 2   Price        78153 non-null   float64\n",
      " 3   User_id      387372 non-null  object \n",
      " 4   profileName  387361 non-null  object \n",
      " 5   score        478827 non-null  float64\n",
      " 6   time         478827 non-null  int64  \n",
      " 7   summary      478760 non-null  object \n",
      " 8   text         478826 non-null  object \n",
      "dtypes: float64(2), int64(1), object(6)\n",
      "memory usage: 36.5+ MB\n"
     ]
    }
   ],
   "source": [
    "ratings_df = ratings_df.drop_duplicates(subset=['User_id', 'Title', 'text', 'score', 'time'], keep='first')\n",
    "ratings_df.info()"
   ]
  },
  {
   "cell_type": "code",
   "execution_count": 10,
   "id": "4d040b78",
   "metadata": {},
   "outputs": [
    {
     "name": "stdout",
     "output_type": "stream",
     "text": [
      "\n",
      "Valores nulos no dataset de avaliações:\n"
     ]
    },
    {
     "data": {
      "text/plain": [
       "Id                  0\n",
       "Title               7\n",
       "Price          400674\n",
       "User_id         91455\n",
       "profileName     91466\n",
       "score               0\n",
       "time                0\n",
       "summary            67\n",
       "text                1\n",
       "dtype: int64"
      ]
     },
     "metadata": {},
     "output_type": "display_data"
    },
    {
     "name": "stdout",
     "output_type": "stream",
     "text": [
      "\n",
      "Valores nulos no dataset de metadados:\n"
     ]
    },
    {
     "data": {
      "text/plain": [
       "Title                 1\n",
       "description       68442\n",
       "authors           31413\n",
       "image             52075\n",
       "previewLink       23836\n",
       "publisher         75886\n",
       "publishedDate     25305\n",
       "infoLink          23836\n",
       "categories        41199\n",
       "ratingsCount     162652\n",
       "dtype: int64"
      ]
     },
     "metadata": {},
     "output_type": "display_data"
    }
   ],
   "source": [
    "print(\"\\nValores nulos no dataset de avaliações:\")\n",
    "display(ratings_df.isna().sum())\n",
    "\n",
    "print(\"\\nValores nulos no dataset de metadados:\")\n",
    "display(metadata_df.isna().sum())"
   ]
  },
  {
   "cell_type": "code",
   "execution_count": 11,
   "id": "c86dc65c",
   "metadata": {},
   "outputs": [],
   "source": [
    "ratings_df = ratings_df.dropna(subset=['Title', 'User_id', 'profileName', 'text'])\n",
    "ratings_df['Price'] = ratings_df['Price'].fillna(-1) \n",
    "ratings_df['summary'] = ratings_df['summary'].fillna('')"
   ]
  },
  {
   "cell_type": "code",
   "execution_count": 12,
   "id": "b47daeb2",
   "metadata": {},
   "outputs": [],
   "source": [
    "metadata_df = metadata_df.dropna(subset=['Title', 'authors'])\n",
    "\n",
    "metadata_df['description'] = metadata_df['description'].fillna('Descrição não disponível')\n",
    "metadata_df['publisher'] = metadata_df['publisher'].fillna('Editora desconhecida')\n",
    "metadata_df['categories'] = metadata_df['categories'].fillna('Sem categoria')\n",
    "\n",
    "metadata_df['ratingsCount'] = metadata_df['ratingsCount'].fillna(0)\n",
    "\n",
    "metadata_df['image'] = metadata_df['image'].fillna('')\n",
    "metadata_df['previewLink'] = metadata_df['previewLink'].fillna('')\n",
    "metadata_df['infoLink'] = metadata_df['infoLink'].fillna('')\n",
    "\n",
    "metadata_df['publishedDate'] = metadata_df['publishedDate'].fillna('1900-01-01')"
   ]
  },
  {
   "cell_type": "code",
   "execution_count": 13,
   "id": "e5dfd009",
   "metadata": {},
   "outputs": [],
   "source": [
    "def parse_list_string(s):\n",
    "    if isinstance(s, str) and s.startswith('[') and s.endswith(']'):\n",
    "        try:\n",
    "            return ast.literal_eval(s)\n",
    "        except (ValueError, SyntaxError):\n",
    "            return []\n",
    "    return []"
   ]
  },
  {
   "cell_type": "code",
   "execution_count": 14,
   "id": "90261565",
   "metadata": {},
   "outputs": [],
   "source": [
    "metadata_df['authors_list'] = metadata_df['authors'].apply(parse_list_string)\n",
    "metadata_df['categories_list'] = metadata_df['categories'].apply(parse_list_string)"
   ]
  },
  {
   "cell_type": "code",
   "execution_count": 15,
   "id": "700cad39",
   "metadata": {},
   "outputs": [
    {
     "data": {
      "text/html": [
       "<div>\n",
       "<style scoped>\n",
       "    .dataframe tbody tr th:only-of-type {\n",
       "        vertical-align: middle;\n",
       "    }\n",
       "\n",
       "    .dataframe tbody tr th {\n",
       "        vertical-align: top;\n",
       "    }\n",
       "\n",
       "    .dataframe thead th {\n",
       "        text-align: right;\n",
       "    }\n",
       "</style>\n",
       "<table border=\"1\" class=\"dataframe\">\n",
       "  <thead>\n",
       "    <tr style=\"text-align: right;\">\n",
       "      <th></th>\n",
       "      <th>Id</th>\n",
       "      <th>Title</th>\n",
       "      <th>Price</th>\n",
       "      <th>User_id</th>\n",
       "      <th>profileName</th>\n",
       "      <th>score</th>\n",
       "      <th>time</th>\n",
       "      <th>summary</th>\n",
       "      <th>text</th>\n",
       "      <th>description</th>\n",
       "      <th>authors</th>\n",
       "      <th>image</th>\n",
       "      <th>previewLink</th>\n",
       "      <th>publisher</th>\n",
       "      <th>publishedDate</th>\n",
       "      <th>infoLink</th>\n",
       "      <th>categories</th>\n",
       "      <th>ratingsCount</th>\n",
       "      <th>authors_list</th>\n",
       "      <th>categories_list</th>\n",
       "    </tr>\n",
       "  </thead>\n",
       "  <tbody>\n",
       "    <tr>\n",
       "      <th>0</th>\n",
       "      <td>1882931173</td>\n",
       "      <td>Its Only Art If Its Well Hung!</td>\n",
       "      <td>-1.0</td>\n",
       "      <td>AVCGYZL8FQQTD</td>\n",
       "      <td>Jim of Oz \"jim-of-oz\"</td>\n",
       "      <td>4.0</td>\n",
       "      <td>940636800</td>\n",
       "      <td>Nice collection of Julie Strain images</td>\n",
       "      <td>This is only for Julie Strain fans. It's a col...</td>\n",
       "      <td>Descrição não disponível</td>\n",
       "      <td>['Julie Strain']</td>\n",
       "      <td>http://books.google.com/books/content?id=DykPA...</td>\n",
       "      <td>http://books.google.nl/books?id=DykPAAAACAAJ&amp;d...</td>\n",
       "      <td>Editora desconhecida</td>\n",
       "      <td>1996</td>\n",
       "      <td>http://books.google.nl/books?id=DykPAAAACAAJ&amp;d...</td>\n",
       "      <td>['Comics &amp; Graphic Novels']</td>\n",
       "      <td>0.0</td>\n",
       "      <td>[Julie Strain]</td>\n",
       "      <td>[Comics &amp; Graphic Novels]</td>\n",
       "    </tr>\n",
       "    <tr>\n",
       "      <th>1</th>\n",
       "      <td>0826414346</td>\n",
       "      <td>Dr. Seuss: American Icon</td>\n",
       "      <td>-1.0</td>\n",
       "      <td>A30TK6U7DNS82R</td>\n",
       "      <td>Kevin Killian</td>\n",
       "      <td>5.0</td>\n",
       "      <td>1095724800</td>\n",
       "      <td>Really Enjoyed It</td>\n",
       "      <td>I don't care much for Dr. Seuss but after read...</td>\n",
       "      <td>Philip Nel takes a fascinating look into the k...</td>\n",
       "      <td>['Philip Nel']</td>\n",
       "      <td>http://books.google.com/books/content?id=IjvHQ...</td>\n",
       "      <td>http://books.google.nl/books?id=IjvHQsCn_pgC&amp;p...</td>\n",
       "      <td>A&amp;C Black</td>\n",
       "      <td>2005-01-01</td>\n",
       "      <td>http://books.google.nl/books?id=IjvHQsCn_pgC&amp;d...</td>\n",
       "      <td>['Biography &amp; Autobiography']</td>\n",
       "      <td>0.0</td>\n",
       "      <td>[Philip Nel]</td>\n",
       "      <td>[Biography &amp; Autobiography]</td>\n",
       "    </tr>\n",
       "    <tr>\n",
       "      <th>2</th>\n",
       "      <td>0826414346</td>\n",
       "      <td>Dr. Seuss: American Icon</td>\n",
       "      <td>-1.0</td>\n",
       "      <td>A3UH4UZ4RSVO82</td>\n",
       "      <td>John Granger</td>\n",
       "      <td>5.0</td>\n",
       "      <td>1078790400</td>\n",
       "      <td>Essential for every personal and Public Library</td>\n",
       "      <td>If people become the books they read and if \"t...</td>\n",
       "      <td>Philip Nel takes a fascinating look into the k...</td>\n",
       "      <td>['Philip Nel']</td>\n",
       "      <td>http://books.google.com/books/content?id=IjvHQ...</td>\n",
       "      <td>http://books.google.nl/books?id=IjvHQsCn_pgC&amp;p...</td>\n",
       "      <td>A&amp;C Black</td>\n",
       "      <td>2005-01-01</td>\n",
       "      <td>http://books.google.nl/books?id=IjvHQsCn_pgC&amp;d...</td>\n",
       "      <td>['Biography &amp; Autobiography']</td>\n",
       "      <td>0.0</td>\n",
       "      <td>[Philip Nel]</td>\n",
       "      <td>[Biography &amp; Autobiography]</td>\n",
       "    </tr>\n",
       "  </tbody>\n",
       "</table>\n",
       "</div>"
      ],
      "text/plain": [
       "           Id                           Title  Price         User_id  \\\n",
       "0  1882931173  Its Only Art If Its Well Hung!   -1.0   AVCGYZL8FQQTD   \n",
       "1  0826414346        Dr. Seuss: American Icon   -1.0  A30TK6U7DNS82R   \n",
       "2  0826414346        Dr. Seuss: American Icon   -1.0  A3UH4UZ4RSVO82   \n",
       "\n",
       "             profileName  score        time  \\\n",
       "0  Jim of Oz \"jim-of-oz\"    4.0   940636800   \n",
       "1          Kevin Killian    5.0  1095724800   \n",
       "2           John Granger    5.0  1078790400   \n",
       "\n",
       "                                           summary  \\\n",
       "0           Nice collection of Julie Strain images   \n",
       "1                                Really Enjoyed It   \n",
       "2  Essential for every personal and Public Library   \n",
       "\n",
       "                                                text  \\\n",
       "0  This is only for Julie Strain fans. It's a col...   \n",
       "1  I don't care much for Dr. Seuss but after read...   \n",
       "2  If people become the books they read and if \"t...   \n",
       "\n",
       "                                         description           authors  \\\n",
       "0                           Descrição não disponível  ['Julie Strain']   \n",
       "1  Philip Nel takes a fascinating look into the k...    ['Philip Nel']   \n",
       "2  Philip Nel takes a fascinating look into the k...    ['Philip Nel']   \n",
       "\n",
       "                                               image  \\\n",
       "0  http://books.google.com/books/content?id=DykPA...   \n",
       "1  http://books.google.com/books/content?id=IjvHQ...   \n",
       "2  http://books.google.com/books/content?id=IjvHQ...   \n",
       "\n",
       "                                         previewLink             publisher  \\\n",
       "0  http://books.google.nl/books?id=DykPAAAACAAJ&d...  Editora desconhecida   \n",
       "1  http://books.google.nl/books?id=IjvHQsCn_pgC&p...             A&C Black   \n",
       "2  http://books.google.nl/books?id=IjvHQsCn_pgC&p...             A&C Black   \n",
       "\n",
       "  publishedDate                                           infoLink  \\\n",
       "0          1996  http://books.google.nl/books?id=DykPAAAACAAJ&d...   \n",
       "1    2005-01-01  http://books.google.nl/books?id=IjvHQsCn_pgC&d...   \n",
       "2    2005-01-01  http://books.google.nl/books?id=IjvHQsCn_pgC&d...   \n",
       "\n",
       "                      categories  ratingsCount    authors_list  \\\n",
       "0    ['Comics & Graphic Novels']           0.0  [Julie Strain]   \n",
       "1  ['Biography & Autobiography']           0.0    [Philip Nel]   \n",
       "2  ['Biography & Autobiography']           0.0    [Philip Nel]   \n",
       "\n",
       "               categories_list  \n",
       "0    [Comics & Graphic Novels]  \n",
       "1  [Biography & Autobiography]  \n",
       "2  [Biography & Autobiography]  "
      ]
     },
     "execution_count": 15,
     "metadata": {},
     "output_type": "execute_result"
    }
   ],
   "source": [
    "df = pd.merge(ratings_df, metadata_df, on='Title', how='left')\n",
    "df.head(3)"
   ]
  },
  {
   "cell_type": "code",
   "execution_count": 16,
   "id": "4ee37204",
   "metadata": {},
   "outputs": [],
   "source": [
    "df['full_review_text'] = df['summary'].fillna('') + '. ' + df['text'].fillna('')"
   ]
  },
  {
   "cell_type": "code",
   "execution_count": 17,
   "id": "6de69532",
   "metadata": {},
   "outputs": [],
   "source": [
    "df['review_time'] = pd.to_datetime(df['time'], unit='s')"
   ]
  },
  {
   "cell_type": "code",
   "execution_count": 18,
   "id": "0439d824",
   "metadata": {},
   "outputs": [],
   "source": [
    "user_review_counts = df['User_id'].value_counts().reset_index()\n",
    "user_review_counts.columns = ['User_id', 'user_review_count']\n",
    "df = pd.merge(df, user_review_counts, on='User_id', how='left')"
   ]
  },
  {
   "cell_type": "code",
   "execution_count": 19,
   "id": "d1c6d04b",
   "metadata": {},
   "outputs": [],
   "source": [
    "def clean_text_html_v2(text):\n",
    "    \"\"\"\n",
    "    Limpeza para decodificar entidades HTML.\n",
    "    \"\"\"\n",
    "    if not isinstance(text, str):\n",
    "        return \"\"\n",
    "    \n",
    "    text = html.unescape(text)\n",
    "    text = re.sub(r'<.*?>', ' ', text)\n",
    "    text = re.sub(r'[^a-zA-Z\\s]', '', text)\n",
    "    text = text.lower().strip()\n",
    "    \n",
    "    return text"
   ]
  },
  {
   "cell_type": "code",
   "execution_count": 20,
   "id": "29f84831",
   "metadata": {},
   "outputs": [],
   "source": [
    "df['cleaned_text_html_v2'] = df['full_review_text'].apply(clean_text_html_v2)"
   ]
  },
  {
   "cell_type": "code",
   "execution_count": 21,
   "id": "3e1af4c7",
   "metadata": {},
   "outputs": [],
   "source": [
    "def get_top_ngrams(corpus, n, top_k=20):\n",
    "    stop_words = set(stopwords.words('english')).union(set(stopwords.words('portuguese')))\n",
    "    custom_stopwords = ['book', 'read', 'story', 'author', 'book', 'read', 'reader', 'history', 'author', 'really', 'one', 'like', 'see', 'get']\n",
    "    stop_words.update(custom_stopwords)\n",
    "    \n",
    "    tokens = [word for text in corpus if isinstance(text, str) for word in word_tokenize(text.lower()) if word.isalpha() and word not in stop_words]\n",
    "    \n",
    "    if n == 2: \n",
    "        ngrams_list = list(zip(tokens, tokens[1:]))\n",
    "    else: \n",
    "        return []\n",
    "        \n",
    "    ngram_counts = Counter(ngrams_list)\n",
    "    return ngram_counts.most_common(top_k)"
   ]
  },
  {
   "cell_type": "code",
   "execution_count": 22,
   "id": "b31a177a",
   "metadata": {},
   "outputs": [],
   "source": [
    "positive_reviews_text = df[df['score'] == 5]['cleaned_text_html_v2'].dropna()\n",
    "negative_reviews_text = df[df['score'] == 1]['cleaned_text_html_v2'].dropna()"
   ]
  },
  {
   "cell_type": "code",
   "execution_count": 23,
   "id": "921109f1",
   "metadata": {},
   "outputs": [],
   "source": [
    "top_positive_bigrams = get_top_ngrams(positive_reviews_text, n=2, top_k=15)\n",
    "top_negative_bigrams = get_top_ngrams(negative_reviews_text, n=2, top_k=15)"
   ]
  },
  {
   "cell_type": "code",
   "execution_count": 24,
   "id": "26e0d809",
   "metadata": {},
   "outputs": [
    {
     "name": "stdout",
     "output_type": "stream",
     "text": [
      "--- Top 15 Bi-gramas em Avaliações Positivas ---\n",
      "[(('highly', 'recommend'), 9803), (('years', 'ago'), 8432), (('well', 'written'), 6245), (('recommend', 'anyone'), 5343), (('high', 'school'), 5312), (('would', 'recommend'), 5062), (('th', 'century'), 5005), (('even', 'though'), 4914), (('lord', 'rings'), 4761), (('first', 'time'), 4639), (('year', 'old'), 4355), (('highly', 'recommended'), 4086), (('best', 'books'), 3541), (('couldnt', 'put'), 3388), (('ive', 'ever'), 3385)]\n",
      "\n",
      "--- Top 15 Bi-gramas em Avaliações Negativas ---\n",
      "[(('waste', 'time'), 1525), (('waste', 'money'), 935), (('dont', 'waste'), 842), (('dont', 'know'), 753), (('much', 'better'), 632), (('main', 'character'), 555), (('poorly', 'written'), 517), (('dont', 'buy'), 504), (('ive', 'ever'), 500), (('would', 'recommend'), 499), (('dont', 'think'), 490), (('years', 'ago'), 475), (('im', 'sure'), 474), (('time', 'money'), 462), (('even', 'though'), 460)]\n"
     ]
    }
   ],
   "source": [
    "print(\"--- Top 15 Bi-gramas em Avaliações Positivas ---\")\n",
    "print(top_positive_bigrams)\n",
    "\n",
    "print(\"\\n--- Top 15 Bi-gramas em Avaliações Negativas ---\")\n",
    "print(top_negative_bigrams)"
   ]
  },
  {
   "cell_type": "code",
   "execution_count": 25,
   "id": "0c62e6b7",
   "metadata": {},
   "outputs": [
    {
     "name": "stderr",
     "output_type": "stream",
     "text": [
      "C:\\Users\\Danilo\\AppData\\Local\\Temp\\ipykernel_18568\\1024165605.py:6: FutureWarning: \n",
      "\n",
      "Passing `palette` without assigning `hue` is deprecated and will be removed in v0.14.0. Assign the `y` variable to `hue` and set `legend=False` for the same effect.\n",
      "\n",
      "  ax = sns.barplot(x=counts, y=ngrams, palette=color)\n"
     ]
    },
    {
     "data": {
      "image/png": "[encoded data removed]",
      "text/plain": [
       "<Figure size 1200x800 with 1 Axes>"
      ]
     },
     "metadata": {},
     "output_type": "display_data"
    },
    {
     "name": "stderr",
     "output_type": "stream",
     "text": [
      "C:\\Users\\Danilo\\AppData\\Local\\Temp\\ipykernel_18568\\1024165605.py:6: FutureWarning: \n",
      "\n",
      "Passing `palette` without assigning `hue` is deprecated and will be removed in v0.14.0. Assign the `y` variable to `hue` and set `legend=False` for the same effect.\n",
      "\n",
      "  ax = sns.barplot(x=counts, y=ngrams, palette=color)\n"
     ]
    },
    {
     "data": {
      "image/png": "[encoded data removed]",
      "text/plain": [
       "<Figure size 1200x800 with 1 Axes>"
      ]
     },
     "metadata": {},
     "output_type": "display_data"
    }
   ],
   "source": [
    "def plot_top_ngrams(ngram_data, title, color):\n",
    "    ngrams = [' '.join(ngram) for ngram, count in ngram_data]\n",
    "    counts = [count for ngram, count in ngram_data]\n",
    "    \n",
    "    plt.figure(figsize=(12, 8))\n",
    "    ax = sns.barplot(x=counts, y=ngrams, palette=color)\n",
    "    ax.set_title(title, fontsize=16)\n",
    "    ax.set_xlabel(\"Frequência\", fontsize=12)\n",
    "    ax.set_ylabel(\"Bi-grama\", fontsize=12)\n",
    "    \n",
    "    # Valores nas barras\n",
    "    for i, v in enumerate(counts):\n",
    "        ax.text(v + 1, i, str(v), color='black', va='center', fontsize=10)\n",
    "        \n",
    "    plt.tight_layout()\n",
    "    plt.show()\n",
    "\n",
    "plot_top_ngrams(top_positive_bigrams, 'Temas Comuns em Avaliações Positivas (Nota 5)', 'viridis')\n",
    "plot_top_ngrams(top_negative_bigrams, 'Temas Comuns em Avaliações Negativas (Nota 1)', 'rocket')"
   ]
  },
  {
   "cell_type": "code",
   "execution_count": null,
   "id": "42432ac4",
   "metadata": {},
   "outputs": [],
   "source": []
  }
 ],
 "metadata": {
  "kernelspec": {
   "display_name": ".venv",
   "language": "python",
   "name": "python3"
  },
  "language_info": {
   "codemirror_mode": {
    "name": "ipython",
    "version": 3
   },
   "file_extension": ".py",
   "mimetype": "text/x-python",
   "name": "python",
   "nbconvert_exporter": "python",
   "pygments_lexer": "ipython3",
   "version": "3.11.9"
  }
 },
 "nbformat": 4,
 "nbformat_minor": 5
}
